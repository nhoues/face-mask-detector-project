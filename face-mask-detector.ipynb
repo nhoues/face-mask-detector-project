{
 "cells": [
  {
   "cell_type": "code",
   "execution_count": 1,
   "metadata": {
    "execution": {
     "iopub.execute_input": "2021-01-02T08:32:05.377801Z",
     "iopub.status.busy": "2021-01-02T08:32:05.376902Z",
     "iopub.status.idle": "2021-01-02T08:32:16.461256Z",
     "shell.execute_reply": "2021-01-02T08:32:16.460145Z"
    },
    "papermill": {
     "duration": 11.109468,
     "end_time": "2021-01-02T08:32:16.461423",
     "exception": false,
     "start_time": "2021-01-02T08:32:05.351955",
     "status": "completed"
    },
    "tags": []
   },
   "outputs": [
    {
     "name": "stdout",
     "output_type": "stream",
     "text": [
      "Collecting imutils\r\n",
      "  Downloading imutils-0.5.3.tar.gz (17 kB)\r\n",
      "Building wheels for collected packages: imutils\r\n",
      "  Building wheel for imutils (setup.py) ... \u001b[?25l-\b \b\\\b \bdone\r\n",
      "\u001b[?25h  Created wheel for imutils: filename=imutils-0.5.3-py3-none-any.whl size=25850 sha256=f2ca52bca748c28b672d440867086387a06522da6166e52f7c98bd6228420820\r\n",
      "  Stored in directory: /root/.cache/pip/wheels/fc/9c/6d/1826267c72afa51b564c9c6e0f66abc806879338bc593a2270\r\n",
      "Successfully built imutils\r\n",
      "Installing collected packages: imutils\r\n",
      "Successfully installed imutils-0.5.3\r\n",
      "\u001b[33mWARNING: You are using pip version 20.3.1; however, version 20.3.3 is available.\r\n",
      "You should consider upgrading via the '/opt/conda/bin/python3.7 -m pip install --upgrade pip' command.\u001b[0m\r\n"
     ]
    }
   ],
   "source": [
    "!pip install imutils"
   ]
  },
  {
   "cell_type": "code",
   "execution_count": 2,
   "metadata": {
    "_cell_guid": "b1076dfc-b9ad-4769-8c92-a6c4dae69d19",
    "_uuid": "8f2839f25d086af736a60e9eeb907d3b93b6e0e5",
    "execution": {
     "iopub.execute_input": "2021-01-02T08:32:16.511238Z",
     "iopub.status.busy": "2021-01-02T08:32:16.510380Z",
     "iopub.status.idle": "2021-01-02T08:32:17.620842Z",
     "shell.execute_reply": "2021-01-02T08:32:17.620231Z"
    },
    "papermill": {
     "duration": 1.1376,
     "end_time": "2021-01-02T08:32:17.620950",
     "exception": false,
     "start_time": "2021-01-02T08:32:16.483350",
     "status": "completed"
    },
    "tags": []
   },
   "outputs": [],
   "source": [
    "# import the necessary packages\n",
    "\n",
    "from sklearn.preprocessing import LabelBinarizer\n",
    "from sklearn.model_selection import train_test_split\n",
    "from sklearn.metrics import classification_report\n",
    "\n",
    "from imutils import paths\n",
    "import matplotlib.pyplot as plt\n",
    "import numpy as np\n",
    "import argparse\n",
    "import os\n",
    "import pandas as pd \n"
   ]
  },
  {
   "cell_type": "markdown",
   "metadata": {
    "papermill": {
     "duration": 0.020756,
     "end_time": "2021-01-02T08:32:17.663515",
     "exception": false,
     "start_time": "2021-01-02T08:32:17.642759",
     "status": "completed"
    },
    "tags": []
   },
   "source": [
    "# Buliding dataset"
   ]
  },
  {
   "cell_type": "code",
   "execution_count": 3,
   "metadata": {
    "_cell_guid": "79c7e3d0-c299-4dcb-8224-4455121ee9b0",
    "_uuid": "d629ff2d2480ee46fbb7e2d37f6b5fab8052498a",
    "execution": {
     "iopub.execute_input": "2021-01-02T08:32:17.710189Z",
     "iopub.status.busy": "2021-01-02T08:32:17.709382Z",
     "iopub.status.idle": "2021-01-02T08:32:17.712414Z",
     "shell.execute_reply": "2021-01-02T08:32:17.711826Z"
    },
    "papermill": {
     "duration": 0.028027,
     "end_time": "2021-01-02T08:32:17.712510",
     "exception": false,
     "start_time": "2021-01-02T08:32:17.684483",
     "status": "completed"
    },
    "tags": []
   },
   "outputs": [],
   "source": [
    "# initialize the initial learning rate, number of epochs to train for,\n",
    "# and batch size\n",
    "INIT_LR = 1e-4\n",
    "EPOCHS = 20\n",
    "BS = 32"
   ]
  },
  {
   "cell_type": "code",
   "execution_count": 4,
   "metadata": {
    "execution": {
     "iopub.execute_input": "2021-01-02T08:32:17.758162Z",
     "iopub.status.busy": "2021-01-02T08:32:17.757597Z",
     "iopub.status.idle": "2021-01-02T08:32:21.932968Z",
     "shell.execute_reply": "2021-01-02T08:32:21.933625Z"
    },
    "papermill": {
     "duration": 4.200722,
     "end_time": "2021-01-02T08:32:21.933815",
     "exception": false,
     "start_time": "2021-01-02T08:32:17.733093",
     "status": "completed"
    },
    "tags": []
   },
   "outputs": [],
   "source": [
    "imagePaths = (  list(paths.list_images('../input/face-mask-12k-images-dataset/Face Mask Dataset/Train')) \n",
    "              + list(paths.list_images('../input/face-mask-12k-images-dataset/Face Mask Dataset/Validation'))\n",
    "              + list(paths.list_images('../input/face-mask-12k-images-dataset/Face Mask Dataset/Test')) ) "
   ]
  },
  {
   "cell_type": "code",
   "execution_count": 5,
   "metadata": {
    "execution": {
     "iopub.execute_input": "2021-01-02T08:32:22.023756Z",
     "iopub.status.busy": "2021-01-02T08:32:22.022841Z",
     "iopub.status.idle": "2021-01-02T08:32:22.051875Z",
     "shell.execute_reply": "2021-01-02T08:32:22.051042Z"
    },
    "papermill": {
     "duration": 0.072049,
     "end_time": "2021-01-02T08:32:22.051978",
     "exception": false,
     "start_time": "2021-01-02T08:32:21.979929",
     "status": "completed"
    },
    "tags": []
   },
   "outputs": [],
   "source": [
    "labels = [] \n",
    "image_paths = []\n",
    "for path in imagePaths : \n",
    "    label = path.split('/')[-2] \n",
    "    \n",
    "    if label == 'WithMask' : \n",
    "        labels.append(1)\n",
    "    else : \n",
    "        labels.append(0)\n",
    "        \n",
    "    image_paths.append(path)\n",
    "    \n",
    "data = pd.DataFrame(data = {'path' : image_paths , 'target' : labels})"
   ]
  },
  {
   "cell_type": "code",
   "execution_count": 6,
   "metadata": {
    "execution": {
     "iopub.execute_input": "2021-01-02T08:32:22.106262Z",
     "iopub.status.busy": "2021-01-02T08:32:22.105654Z",
     "iopub.status.idle": "2021-01-02T08:32:22.121932Z",
     "shell.execute_reply": "2021-01-02T08:32:22.121421Z"
    },
    "papermill": {
     "duration": 0.048437,
     "end_time": "2021-01-02T08:32:22.122027",
     "exception": false,
     "start_time": "2021-01-02T08:32:22.073590",
     "status": "completed"
    },
    "tags": []
   },
   "outputs": [],
   "source": [
    "train , valid = train_test_split(data , test_size = 0.2 , stratify = data.target , random_state = 42 )"
   ]
  },
  {
   "cell_type": "code",
   "execution_count": 7,
   "metadata": {
    "execution": {
     "iopub.execute_input": "2021-01-02T08:32:22.170461Z",
     "iopub.status.busy": "2021-01-02T08:32:22.169817Z",
     "iopub.status.idle": "2021-01-02T08:32:22.174754Z",
     "shell.execute_reply": "2021-01-02T08:32:22.174294Z"
    },
    "papermill": {
     "duration": 0.031329,
     "end_time": "2021-01-02T08:32:22.174846",
     "exception": false,
     "start_time": "2021-01-02T08:32:22.143517",
     "status": "completed"
    },
    "tags": []
   },
   "outputs": [
    {
     "data": {
      "text/plain": [
       "0.4988975576662144"
      ]
     },
     "execution_count": 7,
     "metadata": {},
     "output_type": "execute_result"
    }
   ],
   "source": [
    "data.target.mean()"
   ]
  },
  {
   "cell_type": "code",
   "execution_count": 8,
   "metadata": {
    "execution": {
     "iopub.execute_input": "2021-01-02T08:32:22.223614Z",
     "iopub.status.busy": "2021-01-02T08:32:22.222713Z",
     "iopub.status.idle": "2021-01-02T08:32:22.226727Z",
     "shell.execute_reply": "2021-01-02T08:32:22.226127Z"
    },
    "papermill": {
     "duration": 0.030223,
     "end_time": "2021-01-02T08:32:22.226823",
     "exception": false,
     "start_time": "2021-01-02T08:32:22.196600",
     "status": "completed"
    },
    "tags": []
   },
   "outputs": [
    {
     "data": {
      "text/plain": [
       "0.4988868864624192"
      ]
     },
     "execution_count": 8,
     "metadata": {},
     "output_type": "execute_result"
    }
   ],
   "source": [
    "train.target.mean()"
   ]
  },
  {
   "cell_type": "code",
   "execution_count": 9,
   "metadata": {
    "execution": {
     "iopub.execute_input": "2021-01-02T08:32:22.281406Z",
     "iopub.status.busy": "2021-01-02T08:32:22.280679Z",
     "iopub.status.idle": "2021-01-02T08:32:22.288167Z",
     "shell.execute_reply": "2021-01-02T08:32:22.287579Z"
    },
    "papermill": {
     "duration": 0.038504,
     "end_time": "2021-01-02T08:32:22.288295",
     "exception": false,
     "start_time": "2021-01-02T08:32:22.249791",
     "status": "completed"
    },
    "tags": []
   },
   "outputs": [
    {
     "data": {
      "text/html": [
       "<div>\n",
       "<style scoped>\n",
       "    .dataframe tbody tr th:only-of-type {\n",
       "        vertical-align: middle;\n",
       "    }\n",
       "\n",
       "    .dataframe tbody tr th {\n",
       "        vertical-align: top;\n",
       "    }\n",
       "\n",
       "    .dataframe thead th {\n",
       "        text-align: right;\n",
       "    }\n",
       "</style>\n",
       "<table border=\"1\" class=\"dataframe\">\n",
       "  <thead>\n",
       "    <tr style=\"text-align: right;\">\n",
       "      <th></th>\n",
       "      <th>path</th>\n",
       "      <th>target</th>\n",
       "    </tr>\n",
       "  </thead>\n",
       "  <tbody>\n",
       "    <tr>\n",
       "      <th>3131</th>\n",
       "      <td>../input/face-mask-12k-images-dataset/Face Mas...</td>\n",
       "      <td>0</td>\n",
       "    </tr>\n",
       "    <tr>\n",
       "      <th>11696</th>\n",
       "      <td>../input/face-mask-12k-images-dataset/Face Mas...</td>\n",
       "      <td>1</td>\n",
       "    </tr>\n",
       "    <tr>\n",
       "      <th>2134</th>\n",
       "      <td>../input/face-mask-12k-images-dataset/Face Mas...</td>\n",
       "      <td>0</td>\n",
       "    </tr>\n",
       "    <tr>\n",
       "      <th>9811</th>\n",
       "      <td>../input/face-mask-12k-images-dataset/Face Mas...</td>\n",
       "      <td>1</td>\n",
       "    </tr>\n",
       "    <tr>\n",
       "      <th>7963</th>\n",
       "      <td>../input/face-mask-12k-images-dataset/Face Mas...</td>\n",
       "      <td>1</td>\n",
       "    </tr>\n",
       "  </tbody>\n",
       "</table>\n",
       "</div>"
      ],
      "text/plain": [
       "                                                    path  target\n",
       "3131   ../input/face-mask-12k-images-dataset/Face Mas...       0\n",
       "11696  ../input/face-mask-12k-images-dataset/Face Mas...       1\n",
       "2134   ../input/face-mask-12k-images-dataset/Face Mas...       0\n",
       "9811   ../input/face-mask-12k-images-dataset/Face Mas...       1\n",
       "7963   ../input/face-mask-12k-images-dataset/Face Mas...       1"
      ]
     },
     "execution_count": 9,
     "metadata": {},
     "output_type": "execute_result"
    }
   ],
   "source": [
    "train.head()"
   ]
  },
  {
   "cell_type": "markdown",
   "metadata": {
    "papermill": {
     "duration": 0.0227,
     "end_time": "2021-01-02T08:32:22.333830",
     "exception": false,
     "start_time": "2021-01-02T08:32:22.311130",
     "status": "completed"
    },
    "tags": []
   },
   "source": [
    "# Model class and Engine "
   ]
  },
  {
   "cell_type": "code",
   "execution_count": 10,
   "metadata": {
    "execution": {
     "iopub.execute_input": "2021-01-02T08:32:22.396938Z",
     "iopub.status.busy": "2021-01-02T08:32:22.396300Z",
     "iopub.status.idle": "2021-01-02T08:32:24.665522Z",
     "shell.execute_reply": "2021-01-02T08:32:24.666109Z"
    },
    "papermill": {
     "duration": 2.309545,
     "end_time": "2021-01-02T08:32:24.666354",
     "exception": false,
     "start_time": "2021-01-02T08:32:22.356809",
     "status": "completed"
    },
    "tags": []
   },
   "outputs": [],
   "source": [
    "import numpy as np \n",
    "import pandas as pd \n",
    "\n",
    "import torch\n",
    "from torch import nn\n",
    "import torch.nn.functional as F\n",
    "import torch.optim as optim\n",
    "import albumentations as A\n",
    "\n",
    "from PIL  import Image \n",
    "\n",
    "class MaskFaceDetectionDataset() : \n",
    "  def __init__(self , data , resize_to = (224,224) ,  is_train = True ) : \n",
    "    self.image_path   = data.path.values \n",
    "    self.target = data.target.values \n",
    "    \n",
    "    if is_train : \n",
    "      train_transform = [\n",
    "                          A.ShiftScaleRotate(shift_limit=0.0625,scale_limit=0.1,rotate_limit=5,p=0.9),\n",
    "                          A.GridDistortion(p=0.5),\n",
    "                          A.Resize(resize_to[0] , resize_to[1] , p = 1.0 ),\n",
    "                          A.Normalize(\n",
    "                              mean=[0.485],\n",
    "                              std=[0.229],\n",
    "                              max_pixel_value=255.0,\n",
    "                              p=1.0,\n",
    "                          ),\n",
    "        \n",
    "                        ]\n",
    "      self.aug = A.Compose(train_transform , p = 1 )\n",
    "    else : \n",
    "      self.aug = A.Compose(\n",
    "                              [\n",
    "                                  A.Resize(resize_to[0], resize_to[1], p= 1.0),\n",
    "                                  A.Normalize(\n",
    "                                      mean=[0.485],\n",
    "                                      std=[0.229],\n",
    "                                      max_pixel_value=255.0,\n",
    "                                      p=1.0,\n",
    "                                  ),\n",
    "                              ],\n",
    "                              p=1.0,\n",
    "                          )\n",
    "  def __len__(self) : \n",
    "    return  len(self.target)\n",
    "    \n",
    "  def __getitem__( self , item ) : \n",
    "    out = dict() \n",
    "\n",
    "    image = Image.open(self.image_path[item]) \n",
    "    image = self.aug(image  = np.array(image))['image']\n",
    "    image = np.transpose(image , (2,0,1)).astype(float)\n",
    "    out['image'] = torch.tensor(image , dtype = torch.float)\n",
    "    out['target'] = torch.tensor(self.target[item] , dtype = torch.long) \n",
    " \n",
    "\n",
    "    return out "
   ]
  },
  {
   "cell_type": "code",
   "execution_count": 11,
   "metadata": {
    "execution": {
     "iopub.execute_input": "2021-01-02T08:32:24.719407Z",
     "iopub.status.busy": "2021-01-02T08:32:24.718545Z",
     "iopub.status.idle": "2021-01-02T08:32:33.280664Z",
     "shell.execute_reply": "2021-01-02T08:32:33.279645Z"
    },
    "papermill": {
     "duration": 8.590298,
     "end_time": "2021-01-02T08:32:33.280822",
     "exception": false,
     "start_time": "2021-01-02T08:32:24.690524",
     "status": "completed"
    },
    "tags": []
   },
   "outputs": [
    {
     "name": "stdout",
     "output_type": "stream",
     "text": [
      "Collecting facenet-pytorch\r\n",
      "  Downloading facenet_pytorch-2.5.1-py3-none-any.whl (1.9 MB)\r\n",
      "\u001b[K     |████████████████████████████████| 1.9 MB 2.9 MB/s \r\n",
      "\u001b[?25hRequirement already satisfied: numpy in /opt/conda/lib/python3.7/site-packages (from facenet-pytorch) (1.18.5)\r\n",
      "Requirement already satisfied: torchvision in /opt/conda/lib/python3.7/site-packages (from facenet-pytorch) (0.8.1)\r\n",
      "Requirement already satisfied: pillow in /opt/conda/lib/python3.7/site-packages (from facenet-pytorch) (8.0.1)\r\n",
      "Requirement already satisfied: requests in /opt/conda/lib/python3.7/site-packages (from facenet-pytorch) (2.23.0)\r\n",
      "Requirement already satisfied: certifi>=2017.4.17 in /opt/conda/lib/python3.7/site-packages (from requests->facenet-pytorch) (2020.12.5)\r\n",
      "Requirement already satisfied: idna<3,>=2.5 in /opt/conda/lib/python3.7/site-packages (from requests->facenet-pytorch) (2.9)\r\n",
      "Requirement already satisfied: urllib3!=1.25.0,!=1.25.1,<1.26,>=1.21.1 in /opt/conda/lib/python3.7/site-packages (from requests->facenet-pytorch) (1.25.9)\r\n",
      "Requirement already satisfied: chardet<4,>=3.0.2 in /opt/conda/lib/python3.7/site-packages (from requests->facenet-pytorch) (3.0.4)\r\n",
      "Requirement already satisfied: numpy in /opt/conda/lib/python3.7/site-packages (from facenet-pytorch) (1.18.5)\r\n",
      "Requirement already satisfied: torch in /opt/conda/lib/python3.7/site-packages (from torchvision->facenet-pytorch) (1.7.0)\r\n",
      "Requirement already satisfied: pillow in /opt/conda/lib/python3.7/site-packages (from facenet-pytorch) (8.0.1)\r\n",
      "Requirement already satisfied: future in /opt/conda/lib/python3.7/site-packages (from torch->torchvision->facenet-pytorch) (0.18.2)\r\n",
      "Requirement already satisfied: typing_extensions in /opt/conda/lib/python3.7/site-packages (from torch->torchvision->facenet-pytorch) (3.7.4.1)\r\n",
      "Requirement already satisfied: dataclasses in /opt/conda/lib/python3.7/site-packages (from torch->torchvision->facenet-pytorch) (0.6)\r\n",
      "Requirement already satisfied: numpy in /opt/conda/lib/python3.7/site-packages (from facenet-pytorch) (1.18.5)\r\n",
      "Installing collected packages: facenet-pytorch\r\n",
      "Successfully installed facenet-pytorch-2.5.1\r\n",
      "\u001b[33mWARNING: You are using pip version 20.3.1; however, version 20.3.3 is available.\r\n",
      "You should consider upgrading via the '/opt/conda/bin/python3.7 -m pip install --upgrade pip' command.\u001b[0m\r\n"
     ]
    }
   ],
   "source": [
    "!pip install facenet-pytorch"
   ]
  },
  {
   "cell_type": "code",
   "execution_count": 12,
   "metadata": {
    "execution": {
     "iopub.execute_input": "2021-01-02T08:32:33.353846Z",
     "iopub.status.busy": "2021-01-02T08:32:33.352984Z",
     "iopub.status.idle": "2021-01-02T08:32:33.516423Z",
     "shell.execute_reply": "2021-01-02T08:32:33.515326Z"
    },
    "papermill": {
     "duration": 0.199628,
     "end_time": "2021-01-02T08:32:33.516541",
     "exception": false,
     "start_time": "2021-01-02T08:32:33.316913",
     "status": "completed"
    },
    "tags": []
   },
   "outputs": [],
   "source": [
    "from facenet_pytorch import InceptionResnetV1\n",
    "\n",
    "import torch.nn as nn \n",
    "from torch.nn import functional as F\n",
    "\n",
    "class FaceNet(nn.Module)  : \n",
    "  def __init__(self, pretrained = True ) : \n",
    "    super(FaceNet,self).__init__() \n",
    "    if pretrained : \n",
    "      self.model = InceptionResnetV1(classify=True, num_classes =1 , pretrained='vggface2')\n",
    "    else : \n",
    "      self.model = InceptionResnetV1(classify=True,  num_classes =1 ,pretrained=None) \n",
    "      \n",
    "  def forward(self,x) : \n",
    "    return self.model(x)  "
   ]
  },
  {
   "cell_type": "code",
   "execution_count": 13,
   "metadata": {
    "execution": {
     "iopub.execute_input": "2021-01-02T08:32:33.617887Z",
     "iopub.status.busy": "2021-01-02T08:32:33.596888Z",
     "iopub.status.idle": "2021-01-02T08:32:40.988777Z",
     "shell.execute_reply": "2021-01-02T08:32:40.987680Z"
    },
    "papermill": {
     "duration": 7.444124,
     "end_time": "2021-01-02T08:32:40.988899",
     "exception": false,
     "start_time": "2021-01-02T08:32:33.544775",
     "status": "completed"
    },
    "tags": []
   },
   "outputs": [],
   "source": [
    "import gc\n",
    "from tqdm import tqdm\n",
    "\n",
    "import pandas as pd\n",
    "import matplotlib.pyplot as plt\n",
    "\n",
    "from sklearn import preprocessing\n",
    "from sklearn import model_selection\n",
    "from sklearn.metrics import accuracy_score\n",
    "\n",
    "from torch.cuda import amp\n",
    "import torch\n",
    "from torch import nn, optim\n",
    "import torch.nn.functional as F\n",
    "from torch.autograd import Variable\n",
    "from torch.utils.data import Dataset, DataLoader\n",
    "import transformers\n",
    "from transformers import AdamW\n",
    "from transformers import get_linear_schedule_with_warmup\n",
    "\n",
    "\n",
    "class AverageMeter:\n",
    "    \"\"\"\n",
    "    Computes and stores the average and current value\n",
    "    \"\"\"\n",
    "\n",
    "    def __init__(self):\n",
    "        self.reset()\n",
    "\n",
    "    def reset(self):\n",
    "        self.val = 0\n",
    "        self.avg = 0\n",
    "        self.sum = 0\n",
    "        self.count = 0\n",
    "\n",
    "    def update(self, val, n=1):\n",
    "        self.val = val\n",
    "        self.sum += val * n\n",
    "        self.count += n\n",
    "        self.avg = self.sum / self.count\n",
    "\n",
    "def loss_fn(outputs, targets) : \n",
    "    return nn.BCEWithLogitsLoss()(outputs , targets.view(-1,1) )\n",
    "def train_fn(\n",
    "    data_loader, model, loss_fn, optimizer, device, verbose, epoch ):\n",
    "    \"\"\"\n",
    "    computes the model training for one epoch\n",
    "    \"\"\"\n",
    "    model.train()\n",
    "    tr_loss = 0\n",
    "    counter = 0\n",
    "    if verbose:\n",
    "        losses = AverageMeter()\n",
    "        tk0 = tqdm(enumerate(data_loader), total=len(data_loader))\n",
    "    else:\n",
    "        tk0 = enumerate(data_loader)\n",
    "    for bi, d in tk0:\n",
    "        targets = d[\"target\"].to(device , dtype = torch.float)\n",
    "        images  = d[\"image\"].to(device , dtype = torch.float)\n",
    "        optimizer.zero_grad()\n",
    "        outputs = model(images)\n",
    "        loss = loss_fn(outputs, targets)\n",
    "        tr_loss += loss.item()\n",
    "        counter += 1\n",
    "        loss.backward()\n",
    "        optimizer.step()\n",
    "        if verbose:\n",
    "            losses.update(loss.item(), targets.size(0))\n",
    "            tk0.set_postfix(loss=losses.avg)\n",
    "    return tr_loss / counter\n",
    "\n",
    "\n",
    "def eval_fn(data_loader, model, loss_fn, device, verbose, epoch):\n",
    "    \"\"\"\n",
    "    computes the model evaluation for one epoch\n",
    "    \"\"\"\n",
    "    model.eval()\n",
    "    fin_loss = 0\n",
    "    counter = 0\n",
    "    if verbose:\n",
    "        losses = AverageMeter()\n",
    "        tk0 = tqdm(enumerate(data_loader), total=len(data_loader))\n",
    "    else:\n",
    "        tk0 = enumerate(data_loader)\n",
    "\n",
    "    with torch.no_grad():\n",
    "        for bi, d in tk0:\n",
    "            targets = d[\"target\"].to(device , dtype = torch.float)\n",
    "            images  = d[\"image\"].to(device  , dtype = torch.float)\n",
    "            \n",
    "            outputs = model(images)\n",
    "            loss = loss_fn(outputs, targets)\n",
    "            fin_loss += loss.item()\n",
    "            counter += 1\n",
    "            if verbose:\n",
    "                losses.update(loss.item(), targets.size(0))\n",
    "                tk0.set_postfix(loss=losses.avg)\n",
    "        return fin_loss / counter\n",
    "\n",
    "\n",
    "def run(\n",
    "    model,\n",
    "    train_dataset,\n",
    "    valid_dataset,\n",
    "    loss_fn,\n",
    "    lr,\n",
    "    EPOCHS,\n",
    "    TRAIN_BATCH_SIZE,\n",
    "    VALID_BATCH_SIZE,\n",
    "    device,\n",
    "    path,\n",
    "    verbose=True,\n",
    "):\n",
    "    \"\"\"\n",
    "    trains a given model for a given number of epochs and paramters\n",
    "    \"\"\"\n",
    "    train_data_loader = torch.utils.data.DataLoader(\n",
    "        train_dataset, shuffle=True, batch_size=TRAIN_BATCH_SIZE, num_workers=4\n",
    "    )\n",
    "    valid_data_loader = torch.utils.data.DataLoader(\n",
    "        valid_dataset, batch_size=VALID_BATCH_SIZE, num_workers=4, shuffle=False\n",
    "    )\n",
    "    num_train_steps = int(len(train_data_loader)) * EPOCHS\n",
    "    optimizer = AdamW(model.parameters(), lr=lr,weight_decay=5e-2)\n",
    "    scheduler = torch.optim.lr_scheduler.ReduceLROnPlateau(\n",
    "        optimizer, factor=0.2, patience=3, verbose=verbose\n",
    "    )\n",
    "    train_loss = []\n",
    "    val_loss = []\n",
    "    best = 50000\n",
    "    patience = 0\n",
    "    for epoch in range(EPOCHS):\n",
    "        if verbose:\n",
    "            print(f\"--------- Epoch {epoch} ---------\")\n",
    "        tr_loss = train_fn(\n",
    "            train_data_loader,\n",
    "            model,\n",
    "            loss_fn,\n",
    "            optimizer,\n",
    "            device,\n",
    "            verbose,\n",
    "            epoch,       \n",
    "        )\n",
    "        train_loss.append(tr_loss)\n",
    "        \n",
    "        if verbose:\n",
    "            print(f\" train_loss  = {tr_loss}\")\n",
    "        val = eval_fn(\n",
    "            valid_data_loader, model, loss_fn, device, verbose, epoch\n",
    "        )\n",
    "        \n",
    "        val_loss.append(val)\n",
    "        scheduler.step(val)\n",
    "\n",
    "            \n",
    "        if verbose:\n",
    "            print(f\" val_loss  = {val}\")\n",
    "        if val < best:\n",
    "            best = val\n",
    "            patience = 0\n",
    "            torch.save(model.state_dict(), path)\n",
    "        else:\n",
    "            patience += 1\n",
    "        if patience > 5:\n",
    "            print(f\"Eraly Stopping on Epoch {epoch}\")\n",
    "            print(f\"Best Loss =  {best}\")\n",
    "            break\n",
    "   \n",
    "    model.load_state_dict(torch.load(path), strict=False)\n",
    "    return val_loss, train_loss\n",
    "\n",
    "\n",
    "def predict(model, dataset, device=torch.device(\"cuda\")):\n",
    "    \"\"\"\n",
    "    computes the prediction a given model and data\n",
    "    \"\"\"\n",
    "    model.eval()\n",
    "    data_loader = torch.utils.data.DataLoader(\n",
    "        dataset, batch_size=64, num_workers=4, shuffle=False\n",
    "    )\n",
    "    losses = AverageMeter()\n",
    "    rmse = AverageMeter()\n",
    "    tk0 = tqdm(enumerate(data_loader), total=len(data_loader))\n",
    "    with torch.no_grad():\n",
    "        for bi, d in tk0:\n",
    "            images   = d[\"image\"].to(device, dtype=torch.float)\n",
    "            outputs = model(images)\n",
    "            if bi == 0:\n",
    "                out = outputs\n",
    "            else:\n",
    "                out = torch.cat([out, outputs], dim=0)\n",
    "    return out.cpu().detach().numpy()"
   ]
  },
  {
   "cell_type": "markdown",
   "metadata": {
    "papermill": {
     "duration": 0.02972,
     "end_time": "2021-01-02T08:32:41.048149",
     "exception": false,
     "start_time": "2021-01-02T08:32:41.018429",
     "status": "completed"
    },
    "tags": []
   },
   "source": [
    "# Training "
   ]
  },
  {
   "cell_type": "code",
   "execution_count": 14,
   "metadata": {
    "execution": {
     "iopub.execute_input": "2021-01-02T08:32:41.114815Z",
     "iopub.status.busy": "2021-01-02T08:32:41.114148Z",
     "iopub.status.idle": "2021-01-02T08:51:32.385323Z",
     "shell.execute_reply": "2021-01-02T08:51:32.385850Z"
    },
    "papermill": {
     "duration": 1131.308902,
     "end_time": "2021-01-02T08:51:32.385988",
     "exception": false,
     "start_time": "2021-01-02T08:32:41.077086",
     "status": "completed"
    },
    "tags": []
   },
   "outputs": [
    {
     "data": {
      "application/vnd.jupyter.widget-view+json": {
       "model_id": "63af140f75204dcc899585453299ca6a",
       "version_major": 2,
       "version_minor": 0
      },
      "text/plain": [
       "HBox(children=(FloatProgress(value=0.0, max=111898327.0), HTML(value='')))"
      ]
     },
     "metadata": {},
     "output_type": "display_data"
    },
    {
     "name": "stdout",
     "output_type": "stream",
     "text": [
      "\n",
      "--------- Epoch 0 ---------\n"
     ]
    },
    {
     "name": "stderr",
     "output_type": "stream",
     "text": [
      "100%|██████████| 148/148 [01:01<00:00,  2.39it/s, loss=0.0301]"
     ]
    },
    {
     "name": "stdout",
     "output_type": "stream",
     "text": [
      " train_loss  = 0.029985574732465367\n"
     ]
    },
    {
     "name": "stderr",
     "output_type": "stream",
     "text": [
      "\n",
      "100%|██████████| 37/37 [00:07<00:00,  4.86it/s, loss=0.00578]\n"
     ]
    },
    {
     "name": "stdout",
     "output_type": "stream",
     "text": [
      " val_loss  = 0.005761264853267553\n",
      "--------- Epoch 1 ---------\n"
     ]
    },
    {
     "name": "stderr",
     "output_type": "stream",
     "text": [
      "100%|██████████| 148/148 [00:58<00:00,  2.54it/s, loss=0.00939]"
     ]
    },
    {
     "name": "stdout",
     "output_type": "stream",
     "text": [
      " train_loss  = 0.009357265170979805\n"
     ]
    },
    {
     "name": "stderr",
     "output_type": "stream",
     "text": [
      "\n",
      "100%|██████████| 37/37 [00:06<00:00,  6.03it/s, loss=0.00816]"
     ]
    },
    {
     "name": "stdout",
     "output_type": "stream",
     "text": [
      " val_loss  = 0.008139040524445198\n",
      "--------- Epoch 2 ---------\n"
     ]
    },
    {
     "name": "stderr",
     "output_type": "stream",
     "text": [
      "\n",
      "100%|██████████| 148/148 [00:58<00:00,  2.54it/s, loss=0.00529]"
     ]
    },
    {
     "name": "stdout",
     "output_type": "stream",
     "text": [
      " train_loss  = 0.005280913199090424\n"
     ]
    },
    {
     "name": "stderr",
     "output_type": "stream",
     "text": [
      "\n",
      "100%|██████████| 37/37 [00:05<00:00,  6.23it/s, loss=0.0123]"
     ]
    },
    {
     "name": "stdout",
     "output_type": "stream",
     "text": [
      " val_loss  = 0.012290387928825678\n",
      "--------- Epoch 3 ---------\n"
     ]
    },
    {
     "name": "stderr",
     "output_type": "stream",
     "text": [
      "\n",
      "100%|██████████| 148/148 [00:58<00:00,  2.54it/s, loss=0.00328]"
     ]
    },
    {
     "name": "stdout",
     "output_type": "stream",
     "text": [
      " train_loss  = 0.0034102926274499623\n"
     ]
    },
    {
     "name": "stderr",
     "output_type": "stream",
     "text": [
      "\n",
      "100%|██████████| 37/37 [00:06<00:00,  6.12it/s, loss=0.00697]"
     ]
    },
    {
     "name": "stdout",
     "output_type": "stream",
     "text": [
      " val_loss  = 0.006946772814125005\n",
      "--------- Epoch 4 ---------\n"
     ]
    },
    {
     "name": "stderr",
     "output_type": "stream",
     "text": [
      "\n",
      "100%|██████████| 148/148 [00:58<00:00,  2.52it/s, loss=0.00573]"
     ]
    },
    {
     "name": "stdout",
     "output_type": "stream",
     "text": [
      " train_loss  = 0.005715677031509364\n"
     ]
    },
    {
     "name": "stderr",
     "output_type": "stream",
     "text": [
      "\n",
      "100%|██████████| 37/37 [00:06<00:00,  5.77it/s, loss=0.00549]\n"
     ]
    },
    {
     "name": "stdout",
     "output_type": "stream",
     "text": [
      " val_loss  = 0.005543923570823265\n",
      "--------- Epoch 5 ---------\n"
     ]
    },
    {
     "name": "stderr",
     "output_type": "stream",
     "text": [
      "100%|██████████| 148/148 [00:58<00:00,  2.52it/s, loss=0.00842]"
     ]
    },
    {
     "name": "stdout",
     "output_type": "stream",
     "text": [
      " train_loss  = 0.008386143928529802\n"
     ]
    },
    {
     "name": "stderr",
     "output_type": "stream",
     "text": [
      "\n",
      "100%|██████████| 37/37 [00:06<00:00,  5.82it/s, loss=0.00885]"
     ]
    },
    {
     "name": "stdout",
     "output_type": "stream",
     "text": [
      " val_loss  = 0.008818289540736383\n",
      "--------- Epoch 6 ---------\n"
     ]
    },
    {
     "name": "stderr",
     "output_type": "stream",
     "text": [
      "\n",
      "100%|██████████| 148/148 [00:59<00:00,  2.51it/s, loss=0.00404]"
     ]
    },
    {
     "name": "stdout",
     "output_type": "stream",
     "text": [
      " train_loss  = 0.004053135603695606\n"
     ]
    },
    {
     "name": "stderr",
     "output_type": "stream",
     "text": [
      "\n",
      "100%|██████████| 37/37 [00:06<00:00,  5.63it/s, loss=0.00658]"
     ]
    },
    {
     "name": "stdout",
     "output_type": "stream",
     "text": [
      " val_loss  = 0.006552083857083769\n",
      "--------- Epoch 7 ---------\n"
     ]
    },
    {
     "name": "stderr",
     "output_type": "stream",
     "text": [
      "\n",
      "100%|██████████| 148/148 [00:58<00:00,  2.53it/s, loss=0.00577]"
     ]
    },
    {
     "name": "stdout",
     "output_type": "stream",
     "text": [
      " train_loss  = 0.005744449321478109\n"
     ]
    },
    {
     "name": "stderr",
     "output_type": "stream",
     "text": [
      "\n",
      "100%|██████████| 37/37 [00:06<00:00,  5.56it/s, loss=0.0067]"
     ]
    },
    {
     "name": "stdout",
     "output_type": "stream",
     "text": [
      " val_loss  = 0.0066748879474510655\n",
      "--------- Epoch 8 ---------\n"
     ]
    },
    {
     "name": "stderr",
     "output_type": "stream",
     "text": [
      "\n",
      "100%|██████████| 148/148 [00:58<00:00,  2.53it/s, loss=0.00109]"
     ]
    },
    {
     "name": "stdout",
     "output_type": "stream",
     "text": [
      " train_loss  = 0.001085079282409031\n"
     ]
    },
    {
     "name": "stderr",
     "output_type": "stream",
     "text": [
      "\n",
      "100%|██████████| 37/37 [00:06<00:00,  5.64it/s, loss=0.00465]\n"
     ]
    },
    {
     "name": "stdout",
     "output_type": "stream",
     "text": [
      " val_loss  = 0.004639335386289875\n",
      "--------- Epoch 9 ---------\n"
     ]
    },
    {
     "name": "stderr",
     "output_type": "stream",
     "text": [
      "100%|██████████| 148/148 [00:59<00:00,  2.48it/s, loss=0.00308]"
     ]
    },
    {
     "name": "stdout",
     "output_type": "stream",
     "text": [
      " train_loss  = 0.0030687692555934395\n"
     ]
    },
    {
     "name": "stderr",
     "output_type": "stream",
     "text": [
      "\n",
      "100%|██████████| 37/37 [00:07<00:00,  5.20it/s, loss=0.00633]\n"
     ]
    },
    {
     "name": "stdout",
     "output_type": "stream",
     "text": [
      " val_loss  = 0.0063084082718174814\n",
      "--------- Epoch 10 ---------\n"
     ]
    },
    {
     "name": "stderr",
     "output_type": "stream",
     "text": [
      "100%|██████████| 148/148 [00:58<00:00,  2.52it/s, loss=0.00367]"
     ]
    },
    {
     "name": "stdout",
     "output_type": "stream",
     "text": [
      " train_loss  = 0.0036705739076825085\n"
     ]
    },
    {
     "name": "stderr",
     "output_type": "stream",
     "text": [
      "\n",
      "100%|██████████| 37/37 [00:07<00:00,  5.27it/s, loss=0.00453]\n"
     ]
    },
    {
     "name": "stdout",
     "output_type": "stream",
     "text": [
      " val_loss  = 0.004518021955084043\n",
      "--------- Epoch 11 ---------\n"
     ]
    },
    {
     "name": "stderr",
     "output_type": "stream",
     "text": [
      "100%|██████████| 148/148 [00:59<00:00,  2.48it/s, loss=0.0018]"
     ]
    },
    {
     "name": "stdout",
     "output_type": "stream",
     "text": [
      " train_loss  = 0.0017976890658984131\n"
     ]
    },
    {
     "name": "stderr",
     "output_type": "stream",
     "text": [
      "\n",
      "100%|██████████| 37/37 [00:06<00:00,  6.07it/s, loss=0.00524]"
     ]
    },
    {
     "name": "stdout",
     "output_type": "stream",
     "text": [
      " val_loss  = 0.0052339865340990084\n",
      "--------- Epoch 12 ---------\n"
     ]
    },
    {
     "name": "stderr",
     "output_type": "stream",
     "text": [
      "\n",
      "100%|██████████| 148/148 [00:59<00:00,  2.50it/s, loss=0.00395]"
     ]
    },
    {
     "name": "stdout",
     "output_type": "stream",
     "text": [
      " train_loss  = 0.003935262306112162\n"
     ]
    },
    {
     "name": "stderr",
     "output_type": "stream",
     "text": [
      "\n",
      "100%|██████████| 37/37 [00:06<00:00,  5.92it/s, loss=0.032]"
     ]
    },
    {
     "name": "stdout",
     "output_type": "stream",
     "text": [
      " val_loss  = 0.032081854488087876\n",
      "--------- Epoch 13 ---------\n"
     ]
    },
    {
     "name": "stderr",
     "output_type": "stream",
     "text": [
      "\n",
      "100%|██████████| 148/148 [00:59<00:00,  2.48it/s, loss=0.00764]"
     ]
    },
    {
     "name": "stdout",
     "output_type": "stream",
     "text": [
      " train_loss  = 0.007605505587619248\n"
     ]
    },
    {
     "name": "stderr",
     "output_type": "stream",
     "text": [
      "\n",
      "100%|██████████| 37/37 [00:06<00:00,  6.13it/s, loss=0.00772]"
     ]
    },
    {
     "name": "stdout",
     "output_type": "stream",
     "text": [
      " val_loss  = 0.0076922485773015855\n",
      "--------- Epoch 14 ---------\n"
     ]
    },
    {
     "name": "stderr",
     "output_type": "stream",
     "text": [
      "\n",
      "100%|██████████| 148/148 [00:59<00:00,  2.50it/s, loss=0.00397]"
     ]
    },
    {
     "name": "stdout",
     "output_type": "stream",
     "text": [
      " train_loss  = 0.0039497482840193405\n"
     ]
    },
    {
     "name": "stderr",
     "output_type": "stream",
     "text": [
      "\n",
      "100%|██████████| 37/37 [00:06<00:00,  5.99it/s, loss=0.00625]\n"
     ]
    },
    {
     "name": "stdout",
     "output_type": "stream",
     "text": [
      "Epoch    15: reducing learning rate of group 0 to 2.0000e-05.\n",
      " val_loss  = 0.006230373716420759\n",
      "--------- Epoch 15 ---------\n"
     ]
    },
    {
     "name": "stderr",
     "output_type": "stream",
     "text": [
      "100%|██████████| 148/148 [00:59<00:00,  2.49it/s, loss=0.00122]"
     ]
    },
    {
     "name": "stdout",
     "output_type": "stream",
     "text": [
      " train_loss  = 0.0012156219763587491\n"
     ]
    },
    {
     "name": "stderr",
     "output_type": "stream",
     "text": [
      "\n",
      "100%|██████████| 37/37 [00:06<00:00,  5.92it/s, loss=0.00538]"
     ]
    },
    {
     "name": "stdout",
     "output_type": "stream",
     "text": [
      " val_loss  = 0.005359789010047255\n",
      "--------- Epoch 16 ---------\n"
     ]
    },
    {
     "name": "stderr",
     "output_type": "stream",
     "text": [
      "\n",
      "100%|██████████| 148/148 [01:00<00:00,  2.46it/s, loss=0.000532]"
     ]
    },
    {
     "name": "stdout",
     "output_type": "stream",
     "text": [
      " train_loss  = 0.0005300782472290479\n"
     ]
    },
    {
     "name": "stderr",
     "output_type": "stream",
     "text": [
      "\n",
      "100%|██████████| 37/37 [00:06<00:00,  6.03it/s, loss=0.00534]\n"
     ]
    },
    {
     "name": "stdout",
     "output_type": "stream",
     "text": [
      " val_loss  = 0.005322875353281356\n",
      "Eraly Stopping on Epoch 16\n",
      "Best Loss =  0.004518021955084043\n"
     ]
    },
    {
     "data": {
      "text/plain": [
       "([0.005761264853267553,\n",
       "  0.008139040524445198,\n",
       "  0.012290387928825678,\n",
       "  0.006946772814125005,\n",
       "  0.005543923570823265,\n",
       "  0.008818289540736383,\n",
       "  0.006552083857083769,\n",
       "  0.0066748879474510655,\n",
       "  0.004639335386289875,\n",
       "  0.0063084082718174814,\n",
       "  0.004518021955084043,\n",
       "  0.0052339865340990084,\n",
       "  0.032081854488087876,\n",
       "  0.0076922485773015855,\n",
       "  0.006230373716420759,\n",
       "  0.005359789010047255,\n",
       "  0.005322875353281356],\n",
       " [0.029985574732465367,\n",
       "  0.009357265170979805,\n",
       "  0.005280913199090424,\n",
       "  0.0034102926274499623,\n",
       "  0.005715677031509364,\n",
       "  0.008386143928529802,\n",
       "  0.004053135603695606,\n",
       "  0.005744449321478109,\n",
       "  0.001085079282409031,\n",
       "  0.0030687692555934395,\n",
       "  0.0036705739076825085,\n",
       "  0.0017976890658984131,\n",
       "  0.003935262306112162,\n",
       "  0.007605505587619248,\n",
       "  0.0039497482840193405,\n",
       "  0.0012156219763587491,\n",
       "  0.0005300782472290479])"
      ]
     },
     "execution_count": 14,
     "metadata": {},
     "output_type": "execute_result"
    }
   ],
   "source": [
    "# Setting Hyper Parametres \n",
    "lr = 0.0001 \n",
    "epochs = 100\n",
    "batch_size = 64 \n",
    "model_path = 'detector.pth' \n",
    "device = torch.device('cuda')\n",
    "\n",
    "model = FaceNet(True)\n",
    "model = model.to(device)\n",
    "\n",
    "train_dataset = MaskFaceDetectionDataset(train , is_train = True) \n",
    "valid_dataset = MaskFaceDetectionDataset(valid , is_train = False) \n",
    "\n",
    "\n",
    "run(\n",
    "    model,\n",
    "    train_dataset,\n",
    "    valid_dataset,\n",
    "    loss_fn,\n",
    "    lr,\n",
    "    epochs,\n",
    "    batch_size,\n",
    "    batch_size,\n",
    "    device,\n",
    "    model_path,\n",
    ")"
   ]
  },
  {
   "cell_type": "markdown",
   "metadata": {
    "papermill": {
     "duration": 2.453219,
     "end_time": "2021-01-02T08:51:37.408198",
     "exception": false,
     "start_time": "2021-01-02T08:51:34.954979",
     "status": "completed"
    },
    "tags": []
   },
   "source": [
    "# Model Evaluation "
   ]
  },
  {
   "cell_type": "code",
   "execution_count": 15,
   "metadata": {
    "execution": {
     "iopub.execute_input": "2021-01-02T08:51:41.772291Z",
     "iopub.status.busy": "2021-01-02T08:51:41.770852Z",
     "iopub.status.idle": "2021-01-02T08:51:48.214694Z",
     "shell.execute_reply": "2021-01-02T08:51:48.215189Z"
    },
    "papermill": {
     "duration": 8.622062,
     "end_time": "2021-01-02T08:51:48.215371",
     "exception": false,
     "start_time": "2021-01-02T08:51:39.593309",
     "status": "completed"
    },
    "tags": []
   },
   "outputs": [
    {
     "name": "stderr",
     "output_type": "stream",
     "text": [
      "100%|██████████| 37/37 [00:06<00:00,  5.86it/s]\n"
     ]
    }
   ],
   "source": [
    "pred  = predict(model , valid_dataset)"
   ]
  },
  {
   "cell_type": "code",
   "execution_count": 16,
   "metadata": {
    "execution": {
     "iopub.execute_input": "2021-01-02T08:51:53.153905Z",
     "iopub.status.busy": "2021-01-02T08:51:53.152116Z",
     "iopub.status.idle": "2021-01-02T08:51:53.154565Z",
     "shell.execute_reply": "2021-01-02T08:51:53.155021Z"
    },
    "papermill": {
     "duration": 2.272889,
     "end_time": "2021-01-02T08:51:53.155150",
     "exception": false,
     "start_time": "2021-01-02T08:51:50.882261",
     "status": "completed"
    },
    "tags": []
   },
   "outputs": [],
   "source": [
    "def sigmod(x) : \n",
    "    return 1/(1+ np.exp(-x))"
   ]
  },
  {
   "cell_type": "code",
   "execution_count": 17,
   "metadata": {
    "execution": {
     "iopub.execute_input": "2021-01-02T08:51:57.576233Z",
     "iopub.status.busy": "2021-01-02T08:51:57.575299Z",
     "iopub.status.idle": "2021-01-02T08:51:57.577242Z",
     "shell.execute_reply": "2021-01-02T08:51:57.577738Z"
    },
    "papermill": {
     "duration": 2.192665,
     "end_time": "2021-01-02T08:51:57.577860",
     "exception": false,
     "start_time": "2021-01-02T08:51:55.385195",
     "status": "completed"
    },
    "tags": []
   },
   "outputs": [],
   "source": [
    "pred = sigmod(pred)"
   ]
  },
  {
   "cell_type": "code",
   "execution_count": 18,
   "metadata": {
    "execution": {
     "iopub.execute_input": "2021-01-02T08:52:02.222782Z",
     "iopub.status.busy": "2021-01-02T08:52:02.221839Z",
     "iopub.status.idle": "2021-01-02T08:52:02.223766Z",
     "shell.execute_reply": "2021-01-02T08:52:02.224238Z"
    },
    "papermill": {
     "duration": 2.182463,
     "end_time": "2021-01-02T08:52:02.224376",
     "exception": false,
     "start_time": "2021-01-02T08:52:00.041913",
     "status": "completed"
    },
    "tags": []
   },
   "outputs": [],
   "source": [
    "predictions = np.array((pred>0.5) , dtype = int)"
   ]
  },
  {
   "cell_type": "code",
   "execution_count": 19,
   "metadata": {
    "execution": {
     "iopub.execute_input": "2021-01-02T08:52:06.793167Z",
     "iopub.status.busy": "2021-01-02T08:52:06.792263Z",
     "iopub.status.idle": "2021-01-02T08:52:06.802986Z",
     "shell.execute_reply": "2021-01-02T08:52:06.803778Z"
    },
    "papermill": {
     "duration": 2.382157,
     "end_time": "2021-01-02T08:52:06.803939",
     "exception": false,
     "start_time": "2021-01-02T08:52:04.421782",
     "status": "completed"
    },
    "tags": []
   },
   "outputs": [
    {
     "data": {
      "text/plain": [
       "'              precision    recall  f1-score   support\\n\\n           0       1.00      1.00      1.00      1182\\n           1       1.00      1.00      1.00      1177\\n\\n    accuracy                           1.00      2359\\n   macro avg       1.00      1.00      1.00      2359\\nweighted avg       1.00      1.00      1.00      2359\\n'"
      ]
     },
     "execution_count": 19,
     "metadata": {},
     "output_type": "execute_result"
    }
   ],
   "source": [
    "classification_report(valid.target.values , predictions)"
   ]
  },
  {
   "cell_type": "code",
   "execution_count": 20,
   "metadata": {
    "execution": {
     "iopub.execute_input": "2021-01-02T08:52:11.652443Z",
     "iopub.status.busy": "2021-01-02T08:52:11.651558Z",
     "iopub.status.idle": "2021-01-02T08:52:11.657292Z",
     "shell.execute_reply": "2021-01-02T08:52:11.657894Z"
    },
    "papermill": {
     "duration": 2.33117,
     "end_time": "2021-01-02T08:52:11.658059",
     "exception": false,
     "start_time": "2021-01-02T08:52:09.326889",
     "status": "completed"
    },
    "tags": []
   },
   "outputs": [
    {
     "name": "stderr",
     "output_type": "stream",
     "text": [
      "/opt/conda/lib/python3.7/site-packages/ipykernel_launcher.py:1: SettingWithCopyWarning: \n",
      "A value is trying to be set on a copy of a slice from a DataFrame.\n",
      "Try using .loc[row_indexer,col_indexer] = value instead\n",
      "\n",
      "See the caveats in the documentation: https://pandas.pydata.org/pandas-docs/stable/user_guide/indexing.html#returning-a-view-versus-a-copy\n",
      "  \"\"\"Entry point for launching an IPython kernel.\n"
     ]
    }
   ],
   "source": [
    "valid['predictions'] = predictions"
   ]
  },
  {
   "cell_type": "code",
   "execution_count": 21,
   "metadata": {
    "execution": {
     "iopub.execute_input": "2021-01-02T08:52:16.068194Z",
     "iopub.status.busy": "2021-01-02T08:52:16.067289Z",
     "iopub.status.idle": "2021-01-02T08:52:16.072949Z",
     "shell.execute_reply": "2021-01-02T08:52:16.072415Z"
    },
    "papermill": {
     "duration": 2.217674,
     "end_time": "2021-01-02T08:52:16.073059",
     "exception": false,
     "start_time": "2021-01-02T08:52:13.855385",
     "status": "completed"
    },
    "tags": []
   },
   "outputs": [
    {
     "data": {
      "text/plain": [
       "0.9983043662568886"
      ]
     },
     "execution_count": 21,
     "metadata": {},
     "output_type": "execute_result"
    }
   ],
   "source": [
    "from sklearn.metrics import accuracy_score\n",
    "accuracy_score(valid.target.values , valid.predictions.values)"
   ]
  },
  {
   "cell_type": "code",
   "execution_count": 22,
   "metadata": {
    "execution": {
     "iopub.execute_input": "2021-01-02T08:52:20.741731Z",
     "iopub.status.busy": "2021-01-02T08:52:20.740833Z",
     "iopub.status.idle": "2021-01-02T08:52:20.966334Z",
     "shell.execute_reply": "2021-01-02T08:52:20.967416Z"
    },
    "papermill": {
     "duration": 2.647301,
     "end_time": "2021-01-02T08:52:20.967594",
     "exception": false,
     "start_time": "2021-01-02T08:52:18.320293",
     "status": "completed"
    },
    "tags": []
   },
   "outputs": [
    {
     "data": {
      "image/png": "[encoded data removed]",
      "text/plain": [
       "<Figure size 432x288 with 2 Axes>"
      ]
     },
     "metadata": {
      "needs_background": "light"
     },
     "output_type": "display_data"
    }
   ],
   "source": [
    "from sklearn.metrics import confusion_matrix\n",
    "from sklearn.metrics import plot_confusion_matrix\n",
    "\n",
    "def plot_confusion_matrix(cm, title='Confusion matrix', cmap=plt.cm.Blues):\n",
    "    plt.imshow(cm, interpolation='nearest', cmap=cmap)\n",
    "    plt.title(title)\n",
    "    plt.colorbar()\n",
    "    tick_marks = np.arange(2)\n",
    "    plt.xticks(tick_marks, 'masked', rotation=45)\n",
    "    plt.yticks(tick_marks, 'masked')\n",
    "    plt.tight_layout()\n",
    "    plt.ylabel('True label')\n",
    "    plt.xlabel('Predicted label')\n",
    "\n",
    "cm = confusion_matrix(valid.target.values , valid.predictions.values)\n",
    "cm_normalized = cm.astype('float') / cm.sum(axis=1)[:, np.newaxis]\n",
    "plot_confusion_matrix(cm_normalized, title='Normalized confusion matrix')\n"
   ]
  },
  {
   "cell_type": "markdown",
   "metadata": {
    "papermill": {
     "duration": 2.182281,
     "end_time": "2021-01-02T08:52:25.340080",
     "exception": false,
     "start_time": "2021-01-02T08:52:23.157799",
     "status": "completed"
    },
    "tags": []
   },
   "source": [
    "# MTCNN to detect human faces "
   ]
  },
  {
   "cell_type": "code",
   "execution_count": null,
   "metadata": {
    "papermill": {
     "duration": 2.204646,
     "end_time": "2021-01-02T08:52:29.756586",
     "exception": false,
     "start_time": "2021-01-02T08:52:27.551940",
     "status": "completed"
    },
    "tags": []
   },
   "outputs": [],
   "source": []
  }
 ],
 "metadata": {
  "kernelspec": {
   "display_name": "Python 3",
   "language": "python",
   "name": "python3"
  },
  "language_info": {
   "codemirror_mode": {
    "name": "ipython",
    "version": 3
   },
   "file_extension": ".py",
   "mimetype": "text/x-python",
   "name": "python",
   "nbconvert_exporter": "python",
   "pygments_lexer": "ipython3",
   "version": "3.7.6"
  },
  "papermill": {
   "duration": 1232.387489,
   "end_time": "2021-01-02T08:52:33.459811",
   "environment_variables": {},
   "exception": null,
   "input_path": "__notebook__.ipynb",
   "output_path": "__notebook__.ipynb",
   "parameters": {},
   "start_time": "2021-01-02T08:32:01.072322",
   "version": "2.1.0"
  },
  "widgets": {
   "application/vnd.jupyter.widget-state+json": {
    "state": {
     "1cc6bcc4075f4aba912bf18b7ad85e95": {
      "model_module": "@jupyter-widgets/controls",
      "model_module_version": "1.5.0",
      "model_name": "DescriptionStyleModel",
      "state": {
       "_model_module": "@jupyter-widgets/controls",
       "_model_module_version": "1.5.0",
       "_model_name": "DescriptionStyleModel",
       "_view_count": null,
       "_view_module": "@jupyter-widgets/base",
       "_view_module_version": "1.2.0",
       "_view_name": "StyleView",
       "description_width": ""
      }
     },
     "21dd0e38d23742f98499e10bc770b929": {
      "model_module": "@jupyter-widgets/base",
      "model_module_version": "1.2.0",
      "model_name": "LayoutModel",
      "state": {
       "_model_module": "@jupyter-widgets/base",
       "_model_module_version": "1.2.0",
       "_model_name": "LayoutModel",
       "_view_count": null,
       "_view_module": "@jupyter-widgets/base",
       "_view_module_version": "1.2.0",
       "_view_name": "LayoutView",
       "align_content": null,
       "align_items": null,
       "align_self": null,
       "border": null,
       "bottom": null,
       "display": null,
       "flex": null,
       "flex_flow": null,
       "grid_area": null,
       "grid_auto_columns": null,
       "grid_auto_flow": null,
       "grid_auto_rows": null,
       "grid_column": null,
       "grid_gap": null,
       "grid_row": null,
       "grid_template_areas": null,
       "grid_template_columns": null,
       "grid_template_rows": null,
       "height": null,
       "justify_content": null,
       "justify_items": null,
       "left": null,
       "margin": null,
       "max_height": null,
       "max_width": null,
       "min_height": null,
       "min_width": null,
       "object_fit": null,
       "object_position": null,
       "order": null,
       "overflow": null,
       "overflow_x": null,
       "overflow_y": null,
       "padding": null,
       "right": null,
       "top": null,
       "visibility": null,
       "width": null
      }
     },
     "3858246a86b149f39784faa04f12f861": {
      "model_module": "@jupyter-widgets/base",
      "model_module_version": "1.2.0",
      "model_name": "LayoutModel",
      "state": {
       "_model_module": "@jupyter-widgets/base",
       "_model_module_version": "1.2.0",
       "_model_name": "LayoutModel",
       "_view_count": null,
       "_view_module": "@jupyter-widgets/base",
       "_view_module_version": "1.2.0",
       "_view_name": "LayoutView",
       "align_content": null,
       "align_items": null,
       "align_self": null,
       "border": null,
       "bottom": null,
       "display": null,
       "flex": null,
       "flex_flow": null,
       "grid_area": null,
       "grid_auto_columns": null,
       "grid_auto_flow": null,
       "grid_auto_rows": null,
       "grid_column": null,
       "grid_gap": null,
       "grid_row": null,
       "grid_template_areas": null,
       "grid_template_columns": null,
       "grid_template_rows": null,
       "height": null,
       "justify_content": null,
       "justify_items": null,
       "left": null,
       "margin": null,
       "max_height": null,
       "max_width": null,
       "min_height": null,
       "min_width": null,
       "object_fit": null,
       "object_position": null,
       "order": null,
       "overflow": null,
       "overflow_x": null,
       "overflow_y": null,
       "padding": null,
       "right": null,
       "top": null,
       "visibility": null,
       "width": null
      }
     },
     "63af140f75204dcc899585453299ca6a": {
      "model_module": "@jupyter-widgets/controls",
      "model_module_version": "1.5.0",
      "model_name": "HBoxModel",
      "state": {
       "_dom_classes": [],
       "_model_module": "@jupyter-widgets/controls",
       "_model_module_version": "1.5.0",
       "_model_name": "HBoxModel",
       "_view_count": null,
       "_view_module": "@jupyter-widgets/controls",
       "_view_module_version": "1.5.0",
       "_view_name": "HBoxView",
       "box_style": "",
       "children": [
        "IPY_MODEL_fc8a3a8e02a44114a1415bb0b0ffec7f",
        "IPY_MODEL_7cfa7bd5089b470c9e677aaf8d7a7b57"
       ],
       "layout": "IPY_MODEL_3858246a86b149f39784faa04f12f861"
      }
     },
     "7cfa7bd5089b470c9e677aaf8d7a7b57": {
      "model_module": "@jupyter-widgets/controls",
      "model_module_version": "1.5.0",
      "model_name": "HTMLModel",
      "state": {
       "_dom_classes": [],
       "_model_module": "@jupyter-widgets/controls",
       "_model_module_version": "1.5.0",
       "_model_name": "HTMLModel",
       "_view_count": null,
       "_view_module": "@jupyter-widgets/controls",
       "_view_module_version": "1.5.0",
       "_view_name": "HTMLView",
       "description": "",
       "description_tooltip": null,
       "layout": "IPY_MODEL_21dd0e38d23742f98499e10bc770b929",
       "placeholder": "​",
       "style": "IPY_MODEL_1cc6bcc4075f4aba912bf18b7ad85e95",
       "value": " 107M/107M [00:01&lt;00:00, 79.7MB/s]"
      }
     },
     "db235580165847f1ac70a69b061ea22a": {
      "model_module": "@jupyter-widgets/base",
      "model_module_version": "1.2.0",
      "model_name": "LayoutModel",
      "state": {
       "_model_module": "@jupyter-widgets/base",
       "_model_module_version": "1.2.0",
       "_model_name": "LayoutModel",
       "_view_count": null,
       "_view_module": "@jupyter-widgets/base",
       "_view_module_version": "1.2.0",
       "_view_name": "LayoutView",
       "align_content": null,
       "align_items": null,
       "align_self": null,
       "border": null,
       "bottom": null,
       "display": null,
       "flex": null,
       "flex_flow": null,
       "grid_area": null,
       "grid_auto_columns": null,
       "grid_auto_flow": null,
       "grid_auto_rows": null,
       "grid_column": null,
       "grid_gap": null,
       "grid_row": null,
       "grid_template_areas": null,
       "grid_template_columns": null,
       "grid_template_rows": null,
       "height": null,
       "justify_content": null,
       "justify_items": null,
       "left": null,
       "margin": null,
       "max_height": null,
       "max_width": null,
       "min_height": null,
       "min_width": null,
       "object_fit": null,
       "object_position": null,
       "order": null,
       "overflow": null,
       "overflow_x": null,
       "overflow_y": null,
       "padding": null,
       "right": null,
       "top": null,
       "visibility": null,
       "width": null
      }
     },
     "ed4cd8dfe4954b6a93fa2ea065981458": {
      "model_module": "@jupyter-widgets/controls",
      "model_module_version": "1.5.0",
      "model_name": "ProgressStyleModel",
      "state": {
       "_model_module": "@jupyter-widgets/controls",
       "_model_module_version": "1.5.0",
       "_model_name": "ProgressStyleModel",
       "_view_count": null,
       "_view_module": "@jupyter-widgets/base",
       "_view_module_version": "1.2.0",
       "_view_name": "StyleView",
       "bar_color": null,
       "description_width": "initial"
      }
     },
     "fc8a3a8e02a44114a1415bb0b0ffec7f": {
      "model_module": "@jupyter-widgets/controls",
      "model_module_version": "1.5.0",
      "model_name": "FloatProgressModel",
      "state": {
       "_dom_classes": [],
       "_model_module": "@jupyter-widgets/controls",
       "_model_module_version": "1.5.0",
       "_model_name": "FloatProgressModel",
       "_view_count": null,
       "_view_module": "@jupyter-widgets/controls",
       "_view_module_version": "1.5.0",
       "_view_name": "ProgressView",
       "bar_style": "success",
       "description": "100%",
       "description_tooltip": null,
       "layout": "IPY_MODEL_db235580165847f1ac70a69b061ea22a",
       "max": 111898327.0,
       "min": 0.0,
       "orientation": "horizontal",
       "style": "IPY_MODEL_ed4cd8dfe4954b6a93fa2ea065981458",
       "value": 111898327.0
      }
     }
    },
    "version_major": 2,
    "version_minor": 0
   }
  }
 },
 "nbformat": 4,
 "nbformat_minor": 4
}
